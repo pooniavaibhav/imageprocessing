{
 "cells": [
  {
   "cell_type": "markdown",
   "metadata": {},
   "source": [
    "### Introduction\n",
    "Suppose you have a box which is devided into many boxes inside it.Now you want to draw a number 3 in that.To write a number you will colour the few boxes in a shape of three.After that some boxes are white in colour and boxes where your number is present changes to black.We can denote all the white boxes as 1 and black boxes as 0.\n",
    "### In reality these boxes are pixels.\n",
    "#### You have heard of these resolutions it means that an image has these much of boxes in length and breadth:\n",
    "* VGA = 640 * 480 (640 boxes * 480 boxes)\n",
    "* HD = 1280 * 720\n",
    "* FHD = 1920 * 1080\n",
    "* 4K = 3840 * 2160\n",
    "#### The example took had a black and white image such an image is called BINARY IMAGE.-\n",
    "* So it had 2 level Black and white.\n",
    "* Similerly 2 the power of 8 or 8 bits will have 254 shades between black and white.\n",
    "#### This 8 bits(256 levels)  image is called grey scale image.\n"
   ]
  },
  {
   "cell_type": "markdown",
   "metadata": {},
   "source": [
    "\n",
    "#### For a  coloured image we have three grey scale images presenting the intensity of Red green and blue.\n",
    "So adding these RGB images together we get a coloured image. This means a coloured VGA image is 640 * 480 * 3"
   ]
  },
  {
   "cell_type": "markdown",
   "metadata": {},
   "source": [
    "Questions-\n",
    "While resizing the image wehn we resize it to higher resolution y does it get distorted even though more pixels means more quality."
   ]
  }
 ],
 "metadata": {
  "kernelspec": {
   "display_name": "Python 3",
   "language": "python",
   "name": "python3"
  },
  "language_info": {
   "codemirror_mode": {
    "name": "ipython",
    "version": 3
   },
   "file_extension": ".py",
   "mimetype": "text/x-python",
   "name": "python",
   "nbconvert_exporter": "python",
   "pygments_lexer": "ipython3",
   "version": "3.6.9"
  }
 },
 "nbformat": 4,
 "nbformat_minor": 4
}
